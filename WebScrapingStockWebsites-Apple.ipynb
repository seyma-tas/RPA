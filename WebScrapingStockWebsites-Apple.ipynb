{
 "cells": [
  {
   "cell_type": "markdown",
   "metadata": {},
   "source": [
    "A simple web scraper that seaches stock "
   ]
  },
  {
   "cell_type": "code",
   "execution_count": 6,
   "metadata": {
    "ExecuteTime": {
     "end_time": "2021-02-10T15:15:29.311994Z",
     "start_time": "2021-02-10T15:14:53.412868Z"
    }
   },
   "outputs": [
    {
     "name": "stdout",
     "output_type": "stream",
     "text": [
      "Write the name of the company you want to learn stock newsApple Stock News\n"
     ]
    }
   ],
   "source": [
    "import pytest\n",
    "from selenium.webdriver import Chrome\n",
    "import time\n",
    "from selenium import webdriver\n",
    "from selenium.webdriver.common.by import By\n",
    "from selenium.webdriver.support.ui import WebDriverWait\n",
    "from selenium.webdriver.support import expected_conditions as EC\n",
    "import pandas as pd\n",
    "\n",
    "\n",
    "driver = Chrome(executable_path='/Users/test/Desktop/RPA/RPA/selenium/chromedriver')\n",
    "driver.implicitly_wait(10)\n",
    "driver.get(\"https://www.google.com\")\n",
    "\n",
    "# set the keyword you want to search for\n",
    "# keyword = 'Apple stock news' \n",
    "keyword = input(\"Write the name of the company you want to learn stock news\")\n",
    "# we find the search bar using it's name attribute value\n",
    "searchBar = driver.find_element_by_name('q')\n",
    "# first we send our keyword to the search bar followed by the enter # key\n",
    "searchBar.send_keys(keyword)\n",
    "searchBar.send_keys('\\n')\n",
    "\n",
    "time.sleep(10)\n",
    "\n",
    "def scrape():\n",
    "    pageInfo = []\n",
    "    try:\n",
    "      # wait for search results to be fetched\n",
    "       WebDriverWait(driver, 10).until(\n",
    "       EC.presence_of_element_located((By.CLASS_NAME, \"g\"))\n",
    "      )\n",
    "    except Exception as e:\n",
    "        print(e)\n",
    "        driver.quit()\n",
    "   # contains the search results\n",
    "    searchResults = driver.find_elements_by_class_name('g')\n",
    "\n",
    "   #aCOpRe\n",
    "    for result in searchResults:\n",
    "        element = result.find_element_by_css_selector('a') \n",
    "        link = element.get_attribute('href')\n",
    "        header = result.find_element_by_css_selector('h3').text\n",
    "        text = result.find_element_by_class_name('aCOpRe').text        \n",
    "        pageInfo.append({\n",
    "          'header' : header, 'link' : link, 'text': text\n",
    "        })\n",
    "    return pageInfo\n",
    "\n",
    "# Number of pages to scrape\n",
    "numPages = 5\n",
    "# All the scraped data\n",
    "infoAll = []\n",
    "# Scraped data from page 1\n",
    "infoAll.extend(scrape())\n",
    "for i in range(0 , numPages - 1):\n",
    "    nextButton = driver.find_element_by_link_text('Next')\n",
    "    nextButton.click()\n",
    "    infoAll.extend(scrape())\n",
    "\n",
    "\n",
    "df = pd.DataFrame(infoAll)\n",
    "fileName = keyword + '_' + str(numPages) + '.csv'\n",
    "df.to_csv(fileName)\n",
    "df = df.iloc[5:]"
   ]
  },
  {
   "cell_type": "code",
   "execution_count": 7,
   "metadata": {
    "ExecuteTime": {
     "end_time": "2021-02-10T15:15:38.404151Z",
     "start_time": "2021-02-10T15:15:38.394457Z"
    }
   },
   "outputs": [
    {
     "data": {
      "text/html": [
       "<div>\n",
       "<style scoped>\n",
       "    .dataframe tbody tr th:only-of-type {\n",
       "        vertical-align: middle;\n",
       "    }\n",
       "\n",
       "    .dataframe tbody tr th {\n",
       "        vertical-align: top;\n",
       "    }\n",
       "\n",
       "    .dataframe thead th {\n",
       "        text-align: right;\n",
       "    }\n",
       "</style>\n",
       "<table border=\"1\" class=\"dataframe\">\n",
       "  <thead>\n",
       "    <tr style=\"text-align: right;\">\n",
       "      <th></th>\n",
       "      <th>header</th>\n",
       "      <th>link</th>\n",
       "      <th>text</th>\n",
       "    </tr>\n",
       "  </thead>\n",
       "  <tbody>\n",
       "    <tr>\n",
       "      <td>0</td>\n",
       "      <td></td>\n",
       "      <td>None</td>\n",
       "      <td></td>\n",
       "    </tr>\n",
       "    <tr>\n",
       "      <td>1</td>\n",
       "      <td></td>\n",
       "      <td>https://www.investors.com/research/apple-stock...</td>\n",
       "      <td></td>\n",
       "    </tr>\n",
       "    <tr>\n",
       "      <td>2</td>\n",
       "      <td></td>\n",
       "      <td>https://seekingalpha.com/instablog/764789-cweb...</td>\n",
       "      <td></td>\n",
       "    </tr>\n",
       "    <tr>\n",
       "      <td>3</td>\n",
       "      <td></td>\n",
       "      <td>https://finance.yahoo.com/news/heres-much-inve...</td>\n",
       "      <td></td>\n",
       "    </tr>\n",
       "    <tr>\n",
       "      <td>4</td>\n",
       "      <td></td>\n",
       "      <td>https://www.barrons.com/articles/why-facebook-...</td>\n",
       "      <td></td>\n",
       "    </tr>\n",
       "    <tr>\n",
       "      <td>5</td>\n",
       "      <td>Apple Inc. (AAPL) Latest Stock News &amp; Headline...</td>\n",
       "      <td>https://finance.yahoo.com/quote/aapl/news/</td>\n",
       "      <td>18 hours ago — Get the latest Apple Inc. (AAPL...</td>\n",
       "    </tr>\n",
       "    <tr>\n",
       "      <td>6</td>\n",
       "      <td>AAPL Stock Price | Apple Inc. Stock Quote (U.S...</td>\n",
       "      <td>https://www.marketwatch.com/investing/stock/aapl</td>\n",
       "      <td>23 mins ago — AAPL | Complete Apple Inc. stock...</td>\n",
       "    </tr>\n",
       "    <tr>\n",
       "      <td>7</td>\n",
       "      <td>Apple can surge another 25% by adding cryptocu...</td>\n",
       "      <td>https://www.businessinsider.com/apple-stock-pr...</td>\n",
       "      <td>2 days ago — Apple shares can jump higher if t...</td>\n",
       "    </tr>\n",
       "    <tr>\n",
       "      <td>8</td>\n",
       "      <td>Warren Buffett said Apple CEO Tim Cook lacks S...</td>\n",
       "      <td>https://www.businessinsider.com/warren-buffett...</td>\n",
       "      <td>16 hours ago — Related Stocks · SHARE THIS POS...</td>\n",
       "    </tr>\n",
       "    <tr>\n",
       "      <td>9</td>\n",
       "      <td>AAPL: 136.54 -0.36 -0.27% - CNBC</td>\n",
       "      <td>https://www.cnbc.com/quotes/AAPL</td>\n",
       "      <td>Get Apple Inc (AAPL:NASDAQ) real-time stock qu...</td>\n",
       "    </tr>\n",
       "  </tbody>\n",
       "</table>\n",
       "</div>"
      ],
      "text/plain": [
       "                                              header  \\\n",
       "0                                                      \n",
       "1                                                      \n",
       "2                                                      \n",
       "3                                                      \n",
       "4                                                      \n",
       "5  Apple Inc. (AAPL) Latest Stock News & Headline...   \n",
       "6  AAPL Stock Price | Apple Inc. Stock Quote (U.S...   \n",
       "7  Apple can surge another 25% by adding cryptocu...   \n",
       "8  Warren Buffett said Apple CEO Tim Cook lacks S...   \n",
       "9                   AAPL: 136.54 -0.36 -0.27% - CNBC   \n",
       "\n",
       "                                                link  \\\n",
       "0                                               None   \n",
       "1  https://www.investors.com/research/apple-stock...   \n",
       "2  https://seekingalpha.com/instablog/764789-cweb...   \n",
       "3  https://finance.yahoo.com/news/heres-much-inve...   \n",
       "4  https://www.barrons.com/articles/why-facebook-...   \n",
       "5         https://finance.yahoo.com/quote/aapl/news/   \n",
       "6   https://www.marketwatch.com/investing/stock/aapl   \n",
       "7  https://www.businessinsider.com/apple-stock-pr...   \n",
       "8  https://www.businessinsider.com/warren-buffett...   \n",
       "9                   https://www.cnbc.com/quotes/AAPL   \n",
       "\n",
       "                                                text  \n",
       "0                                                     \n",
       "1                                                     \n",
       "2                                                     \n",
       "3                                                     \n",
       "4                                                     \n",
       "5  18 hours ago — Get the latest Apple Inc. (AAPL...  \n",
       "6  23 mins ago — AAPL | Complete Apple Inc. stock...  \n",
       "7  2 days ago — Apple shares can jump higher if t...  \n",
       "8  16 hours ago — Related Stocks · SHARE THIS POS...  \n",
       "9  Get Apple Inc (AAPL:NASDAQ) real-time stock qu...  "
      ]
     },
     "execution_count": 7,
     "metadata": {},
     "output_type": "execute_result"
    }
   ],
   "source": [
    "df.head(10)"
   ]
  },
  {
   "cell_type": "code",
   "execution_count": null,
   "metadata": {},
   "outputs": [],
   "source": []
  }
 ],
 "metadata": {
  "kernelspec": {
   "display_name": "Python 3",
   "language": "python",
   "name": "python3"
  },
  "language_info": {
   "codemirror_mode": {
    "name": "ipython",
    "version": 3
   },
   "file_extension": ".py",
   "mimetype": "text/x-python",
   "name": "python",
   "nbconvert_exporter": "python",
   "pygments_lexer": "ipython3",
   "version": "3.7.4"
  },
  "toc": {
   "base_numbering": 1,
   "nav_menu": {},
   "number_sections": true,
   "sideBar": true,
   "skip_h1_title": false,
   "title_cell": "Table of Contents",
   "title_sidebar": "Contents",
   "toc_cell": false,
   "toc_position": {},
   "toc_section_display": true,
   "toc_window_display": false
  },
  "varInspector": {
   "cols": {
    "lenName": 16,
    "lenType": 16,
    "lenVar": 40
   },
   "kernels_config": {
    "python": {
     "delete_cmd_postfix": "",
     "delete_cmd_prefix": "del ",
     "library": "var_list.py",
     "varRefreshCmd": "print(var_dic_list())"
    },
    "r": {
     "delete_cmd_postfix": ") ",
     "delete_cmd_prefix": "rm(",
     "library": "var_list.r",
     "varRefreshCmd": "cat(var_dic_list()) "
    }
   },
   "types_to_exclude": [
    "module",
    "function",
    "builtin_function_or_method",
    "instance",
    "_Feature"
   ],
   "window_display": false
  }
 },
 "nbformat": 4,
 "nbformat_minor": 2
}
