{
 "cells": [
  {
   "cell_type": "markdown",
   "metadata": {},
   "source": [
    "# Stock Prices"
   ]
  },
  {
   "cell_type": "markdown",
   "metadata": {},
   "source": [
    "A web scraper that seaches the news about the stock prices of a company and saves the results in a csv file. "
   ]
  },
  {
   "cell_type": "markdown",
   "metadata": {},
   "source": [
    "## Importing Necessary Libraries"
   ]
  },
  {
   "cell_type": "code",
   "execution_count": 30,
   "metadata": {
    "ExecuteTime": {
     "end_time": "2021-02-11T17:22:04.949112Z",
     "start_time": "2021-02-11T17:22:04.945196Z"
    }
   },
   "outputs": [],
   "source": [
    "import psutil, os\n",
    "import pytest\n",
    "import timeit\n",
    "import pandas as pd \n",
    "\n",
    "#selenium\n",
    "from selenium.webdriver import Chrome\n",
    "from selenium import webdriver\n",
    "from selenium.webdriver.common.by import By\n",
    "from selenium.webdriver.support.ui import WebDriverWait\n",
    "from selenium.webdriver.support import expected_conditions as EC"
   ]
  },
  {
   "cell_type": "markdown",
   "metadata": {
    "heading_collapsed": true
   },
   "source": [
    "## Defining Functions"
   ]
  },
  {
   "cell_type": "code",
   "execution_count": 31,
   "metadata": {
    "ExecuteTime": {
     "end_time": "2021-02-11T17:22:07.608337Z",
     "start_time": "2021-02-11T17:22:07.602169Z"
    },
    "code_folding": [],
    "hidden": true
   },
   "outputs": [],
   "source": [
    "def scrape():\n",
    "    \"\"\"\n",
    "    This function takes scrapes the web pages opened by Selenium, \n",
    "    returns headers, links, and texts of the webpages on a dictionary list.\n",
    "    \"\"\"\n",
    "    \n",
    "    pageInfo = []\n",
    "    try:\n",
    "      # wait for search results to be fetched\n",
    "       WebDriverWait(driver, 10).until(\n",
    "       EC.presence_of_element_located((By.CLASS_NAME, \"g\"))\n",
    "      )\n",
    "    except Exception as e:\n",
    "        print(e)\n",
    "        driver.quit()\n",
    "   # contains the search results\n",
    "    searchResults = driver.find_elements_by_class_name('g')\n",
    "\n",
    "   #aCOpRe\n",
    "    for result in searchResults:\n",
    "        element = result.find_element_by_css_selector('a') \n",
    "        link = element.get_attribute('href')\n",
    "        header = result.find_element_by_css_selector('h3').text\n",
    "        text = result.find_element_by_class_name('aCOpRe').text        \n",
    "    #append to the list    \n",
    "        pageInfo.append({\n",
    "          'header' : header, 'link' : link, 'text': text\n",
    "        })\n",
    "    return pageInfo"
   ]
  },
  {
   "cell_type": "markdown",
   "metadata": {},
   "source": [
    "## Defining Variables"
   ]
  },
  {
   "cell_type": "code",
   "execution_count": 35,
   "metadata": {
    "ExecuteTime": {
     "end_time": "2021-02-11T17:26:02.344477Z",
     "start_time": "2021-02-11T17:25:54.666147Z"
    }
   },
   "outputs": [
    {
     "name": "stdout",
     "output_type": "stream",
     "text": [
      "Enter the name of the company you want to get news:  Apple\n"
     ]
    }
   ],
   "source": [
    "path = '/Users/test/Desktop/RPA/RPA/selenium/chromedriver'\n",
    "website = \"https://www.google.com\"\n",
    "# set the keyword we want to search for\n",
    "company = input(\"Enter the name of the company you want to get news:  \")\n",
    "keyword = company +' stock news' "
   ]
  },
  {
   "cell_type": "markdown",
   "metadata": {},
   "source": [
    "## Scraping Stock News"
   ]
  },
  {
   "cell_type": "code",
   "execution_count": 36,
   "metadata": {
    "ExecuteTime": {
     "end_time": "2021-02-11T17:26:38.782058Z",
     "start_time": "2021-02-11T17:26:14.596292Z"
    },
    "code_folding": []
   },
   "outputs": [
    {
     "name": "stdout",
     "output_type": "stream",
     "text": [
      "CPU % used: 12.2\n",
      "memory % used: 68.2\n",
      "--------------------------------------------------------------------------------\n",
      "CPU % used: 22.6\n",
      "memory % used: 67.1\n"
     ]
    }
   ],
   "source": [
    "#Measure the CPU and memory usage of the program\n",
    "#CPU Usage\n",
    "print('CPU % used:',psutil.cpu_percent())\n",
    "#physical memory usage\n",
    "print('memory % used:', psutil.virtual_memory()[2]) \n",
    "\n",
    "#Define the driver\n",
    "driver = Chrome(executable_path= path)\n",
    "driver.implicitly_wait(10)\n",
    "driver.get(website)\n",
    "\n",
    "\n",
    "# Find the search bar using it's name attribute value\n",
    "searchBar = driver.find_element_by_name('q')\n",
    "# Send keyword to the search bar followed by the enter \n",
    "searchBar.send_keys(keyword)\n",
    "searchBar.send_keys('\\n')\n",
    "#Wait\n",
    "time.sleep(10)\n",
    "\n",
    "# Number of pages to scrape\n",
    "numPages = 5\n",
    "# All the scraped data is stored in a dict list\n",
    "infoAll = []\n",
    "# Scraped data from page 1\n",
    "infoAll.extend(scrape())\n",
    "# Scraped data from 5 pages\n",
    "for i in range(0 , numPages - 1):\n",
    "    nextButton = driver.find_element_by_link_text('Next')\n",
    "    nextButton.click()\n",
    "    infoAll.extend(scrape())\n",
    "\n",
    "#Making a dataframe with the scraped information\n",
    "df = pd.DataFrame(infoAll)\n",
    "\n",
    "# Saving the data in a csv file\n",
    "fileName = keyword + '_' + str(numPages) + '.csv'\n",
    "df.to_csv(fileName)\n",
    "df = df.iloc[5:]\n",
    "\n",
    "#Measure the CPU and memory usage of the program\n",
    "#CPU Usage\n",
    "print(40*'--') \n",
    "print('CPU % used:', psutil.cpu_percent())\n",
    "#physical memory usage\n",
    "print('memory % used:', psutil.virtual_memory()[2])\n",
    " \n"
   ]
  },
  {
   "cell_type": "markdown",
   "metadata": {},
   "source": [
    "## Printing the first 10 rows of the dataframe"
   ]
  },
  {
   "cell_type": "code",
   "execution_count": 37,
   "metadata": {
    "ExecuteTime": {
     "end_time": "2021-02-11T17:27:06.260724Z",
     "start_time": "2021-02-11T17:27:06.251145Z"
    },
    "code_folding": [],
    "scrolled": true
   },
   "outputs": [
    {
     "data": {
      "text/html": [
       "<div>\n",
       "<style scoped>\n",
       "    .dataframe tbody tr th:only-of-type {\n",
       "        vertical-align: middle;\n",
       "    }\n",
       "\n",
       "    .dataframe tbody tr th {\n",
       "        vertical-align: top;\n",
       "    }\n",
       "\n",
       "    .dataframe thead th {\n",
       "        text-align: right;\n",
       "    }\n",
       "</style>\n",
       "<table border=\"1\" class=\"dataframe\">\n",
       "  <thead>\n",
       "    <tr style=\"text-align: right;\">\n",
       "      <th></th>\n",
       "      <th>header</th>\n",
       "      <th>link</th>\n",
       "      <th>text</th>\n",
       "    </tr>\n",
       "  </thead>\n",
       "  <tbody>\n",
       "    <tr>\n",
       "      <td>5</td>\n",
       "      <td>Apple Inc. (AAPL) Stock Price, News, Quote &amp; H...</td>\n",
       "      <td>https://finance.yahoo.com/quote/AAPL/</td>\n",
       "      <td>11 hours ago — Find the latest Apple Inc. (AAP...</td>\n",
       "    </tr>\n",
       "    <tr>\n",
       "      <td>6</td>\n",
       "      <td>AAPL Stock Price | Apple Inc. Stock Quote (U.S...</td>\n",
       "      <td>https://www.marketwatch.com/investing/stock/aapl</td>\n",
       "      <td>52 mins ago — AAPL | Complete Apple Inc. stock...</td>\n",
       "    </tr>\n",
       "    <tr>\n",
       "      <td>7</td>\n",
       "      <td>AAPL: Apple Inc - Stock Price, Quote and News ...</td>\n",
       "      <td>https://www.cnbc.com/quotes/AAPL</td>\n",
       "      <td>Get Apple Inc (AAPL:NASDAQ) real-time stock qu...</td>\n",
       "    </tr>\n",
       "    <tr>\n",
       "      <td>8</td>\n",
       "      <td>Apple Stock A Buy Right Now? AAPL Stock Chart ...</td>\n",
       "      <td>https://www.investors.com/research/apple-stock...</td>\n",
       "      <td>6 days ago — That news has buoyed Apple stock ...</td>\n",
       "    </tr>\n",
       "    <tr>\n",
       "      <td>9</td>\n",
       "      <td>Apple - AAPL - Stock Price &amp; News | The Motley...</td>\n",
       "      <td>https://www.fool.com/quote/nasdaq/apple/aapl/</td>\n",
       "      <td>Real time Apple (AAPL) stock price quote, stoc...</td>\n",
       "    </tr>\n",
       "    <tr>\n",
       "      <td>10</td>\n",
       "      <td>Apple Inc. (AAPL) Stock Price Today, Quote &amp; N...</td>\n",
       "      <td>https://seekingalpha.com/symbol/AAPL</td>\n",
       "      <td>2 hours ago — A high-level overview of Apple I...</td>\n",
       "    </tr>\n",
       "    <tr>\n",
       "      <td>11</td>\n",
       "      <td>Apple and Tesla expert says Apple is getting i...</td>\n",
       "      <td>https://www.cnet.com/roadshow/news/apple-and-t...</td>\n",
       "      <td>23 hours ago — Climb in the driver's seat for ...</td>\n",
       "    </tr>\n",
       "    <tr>\n",
       "      <td>12</td>\n",
       "      <td>Apple can surge another 25% by adding cryptocu...</td>\n",
       "      <td>https://www.businessinsider.com/apple-stock-pr...</td>\n",
       "      <td>3 days ago — Apple shares can jump higher if t...</td>\n",
       "    </tr>\n",
       "    <tr>\n",
       "      <td>13</td>\n",
       "      <td>AAPL | Apple Inc. Stock Price &amp; News - WSJ</td>\n",
       "      <td>https://www.wsj.com/market-data/quotes/AAPL</td>\n",
       "      <td>View the latest Apple Inc. (AAPL) stock price,...</td>\n",
       "    </tr>\n",
       "    <tr>\n",
       "      <td>14</td>\n",
       "      <td>Apple Inc. Common Stock (AAPL) News Headlines ...</td>\n",
       "      <td>https://www.nasdaq.com/market-activity/stocks/...</td>\n",
       "      <td>5 hours ago — Find the latest news headlines f...</td>\n",
       "    </tr>\n",
       "  </tbody>\n",
       "</table>\n",
       "</div>"
      ],
      "text/plain": [
       "                                               header  \\\n",
       "5   Apple Inc. (AAPL) Stock Price, News, Quote & H...   \n",
       "6   AAPL Stock Price | Apple Inc. Stock Quote (U.S...   \n",
       "7   AAPL: Apple Inc - Stock Price, Quote and News ...   \n",
       "8   Apple Stock A Buy Right Now? AAPL Stock Chart ...   \n",
       "9   Apple - AAPL - Stock Price & News | The Motley...   \n",
       "10  Apple Inc. (AAPL) Stock Price Today, Quote & N...   \n",
       "11  Apple and Tesla expert says Apple is getting i...   \n",
       "12  Apple can surge another 25% by adding cryptocu...   \n",
       "13         AAPL | Apple Inc. Stock Price & News - WSJ   \n",
       "14  Apple Inc. Common Stock (AAPL) News Headlines ...   \n",
       "\n",
       "                                                 link  \\\n",
       "5               https://finance.yahoo.com/quote/AAPL/   \n",
       "6    https://www.marketwatch.com/investing/stock/aapl   \n",
       "7                    https://www.cnbc.com/quotes/AAPL   \n",
       "8   https://www.investors.com/research/apple-stock...   \n",
       "9       https://www.fool.com/quote/nasdaq/apple/aapl/   \n",
       "10               https://seekingalpha.com/symbol/AAPL   \n",
       "11  https://www.cnet.com/roadshow/news/apple-and-t...   \n",
       "12  https://www.businessinsider.com/apple-stock-pr...   \n",
       "13        https://www.wsj.com/market-data/quotes/AAPL   \n",
       "14  https://www.nasdaq.com/market-activity/stocks/...   \n",
       "\n",
       "                                                 text  \n",
       "5   11 hours ago — Find the latest Apple Inc. (AAP...  \n",
       "6   52 mins ago — AAPL | Complete Apple Inc. stock...  \n",
       "7   Get Apple Inc (AAPL:NASDAQ) real-time stock qu...  \n",
       "8   6 days ago — That news has buoyed Apple stock ...  \n",
       "9   Real time Apple (AAPL) stock price quote, stoc...  \n",
       "10  2 hours ago — A high-level overview of Apple I...  \n",
       "11  23 hours ago — Climb in the driver's seat for ...  \n",
       "12  3 days ago — Apple shares can jump higher if t...  \n",
       "13  View the latest Apple Inc. (AAPL) stock price,...  \n",
       "14  5 hours ago — Find the latest news headlines f...  "
      ]
     },
     "execution_count": 37,
     "metadata": {},
     "output_type": "execute_result"
    }
   ],
   "source": [
    "df.head(10)"
   ]
  },
  {
   "cell_type": "code",
   "execution_count": null,
   "metadata": {},
   "outputs": [],
   "source": []
  },
  {
   "cell_type": "code",
   "execution_count": null,
   "metadata": {},
   "outputs": [],
   "source": []
  }
 ],
 "metadata": {
  "kernelspec": {
   "display_name": "Python 3",
   "language": "python",
   "name": "python3"
  },
  "language_info": {
   "codemirror_mode": {
    "name": "ipython",
    "version": 3
   },
   "file_extension": ".py",
   "mimetype": "text/x-python",
   "name": "python",
   "nbconvert_exporter": "python",
   "pygments_lexer": "ipython3",
   "version": "3.7.4"
  },
  "toc": {
   "base_numbering": 1,
   "nav_menu": {},
   "number_sections": true,
   "sideBar": true,
   "skip_h1_title": false,
   "title_cell": "Table of Contents",
   "title_sidebar": "Contents",
   "toc_cell": false,
   "toc_position": {},
   "toc_section_display": true,
   "toc_window_display": false
  },
  "varInspector": {
   "cols": {
    "lenName": 16,
    "lenType": 16,
    "lenVar": 40
   },
   "kernels_config": {
    "python": {
     "delete_cmd_postfix": "",
     "delete_cmd_prefix": "del ",
     "library": "var_list.py",
     "varRefreshCmd": "print(var_dic_list())"
    },
    "r": {
     "delete_cmd_postfix": ") ",
     "delete_cmd_prefix": "rm(",
     "library": "var_list.r",
     "varRefreshCmd": "cat(var_dic_list()) "
    }
   },
   "types_to_exclude": [
    "module",
    "function",
    "builtin_function_or_method",
    "instance",
    "_Feature"
   ],
   "window_display": false
  }
 },
 "nbformat": 4,
 "nbformat_minor": 2
}
